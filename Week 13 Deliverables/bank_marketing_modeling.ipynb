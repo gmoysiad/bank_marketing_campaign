{
 "cells": [
  {
   "cell_type": "markdown",
   "id": "c3e9aaf4",
   "metadata": {},
   "source": [
    "## Bank Marketing Campaign\n",
    "## Specialization: Data Science\n",
    "## Data Glacier Virtual Internship\n",
    "### Presented by the Greeks\n",
    "### Galanakis Michalis, Konioris Aggelos, Moysiadis Giorgos"
   ]
  },
  {
   "cell_type": "markdown",
   "id": "a04873a9",
   "metadata": {},
   "source": [
    "#### At first, we import all the libraries that will be utilized"
   ]
  },
  {
   "cell_type": "code",
   "execution_count": 1,
   "id": "96c606e4",
   "metadata": {},
   "outputs": [],
   "source": [
    "import matplotlib.pyplot as plt\n",
    "import numpy as np\n",
    "import pandas as pd\n",
    "import seaborn as sns\n",
    "from sklearn.metrics import confusion_matrix, f1_score, recall_score\n",
    "from sklearn.model_selection import train_test_split, cross_val_score, GridSearchCV\n",
    "from sklearn.preprocessing import LabelEncoder, MinMaxScaler\n",
    "from xgboost import XGBClassifier\n",
    "from sklearn.ensemble import GradientBoostingClassifier\n",
    "\n",
    "import warnings\n",
    "warnings.filterwarnings('ignore')\n",
    "\n",
    "# for reproducibility\n",
    "SEED = 0"
   ]
  },
  {
   "cell_type": "markdown",
   "id": "9e46797a",
   "metadata": {},
   "source": [
    "#### Before starting our model buliding analysis, we run the code from previous assignment for handling missing values"
   ]
  },
  {
   "cell_type": "code",
   "execution_count": 2,
   "id": "8ea1c271",
   "metadata": {},
   "outputs": [],
   "source": [
    "bank_additional_full = pd.read_csv(\"../data/bank-additional-full.csv\", delimiter = ';')\n",
    "df = bank_additional_full \n",
    "df.replace('unknown', np.nan, inplace = True)\n",
    "df['loan'].fillna(df['loan'].value_counts().index[0], inplace = True)\n",
    "df['marital'].fillna(df['marital'].value_counts().index[0], inplace = True)\n",
    "df['default'].fillna(df['default'].value_counts().index[0], inplace = True)\n",
    "\n",
    "def na_randomfill(function):\n",
    "    na = pd.isnull(function)   \n",
    "    number_null = na.sum()        \n",
    "    if number_null == 0:\n",
    "        return function             \n",
    "    fill_values = function[~na].sample(n = number_null, replace = True, random_state = 0)\n",
    "    fill_values.index = function.index[na]\n",
    "    return function.fillna(fill_values)\n",
    "\n",
    "df = df.apply(na_randomfill)"
   ]
  },
  {
   "cell_type": "markdown",
   "id": "f8b79ec2",
   "metadata": {},
   "source": [
    "#### This step provides the transformation of the qualitative variables into quantitative, so we can use them in our modebls"
   ]
  },
  {
   "cell_type": "code",
   "execution_count": 3,
   "id": "10331099",
   "metadata": {},
   "outputs": [
    {
     "data": {
      "text/plain": "   age  job  marital  education  default  housing  loan  contact  month  \\\n0   56    3        1          0        0        0     0        1      6   \n1   57    7        1          3        0        0     0        1      6   \n2   37    7        1          3        0        1     0        1      6   \n3   40    0        1          1        0        0     0        1      6   \n4   56    7        1          3        0        0     1        1      6   \n\n   day_of_week  ...  campaign  pdays  previous  poutcome  emp.var.rate  \\\n0            1  ...         1    999         0         1           1.1   \n1            1  ...         1    999         0         1           1.1   \n2            1  ...         1    999         0         1           1.1   \n3            1  ...         1    999         0         1           1.1   \n4            1  ...         1    999         0         1           1.1   \n\n   cons.price.idx  cons.conf.idx  euribor3m  nr.employed  y  \n0          93.994          -36.4      4.857       5191.0  0  \n1          93.994          -36.4      4.857       5191.0  0  \n2          93.994          -36.4      4.857       5191.0  0  \n3          93.994          -36.4      4.857       5191.0  0  \n4          93.994          -36.4      4.857       5191.0  0  \n\n[5 rows x 21 columns]",
      "text/html": "<div>\n<style scoped>\n    .dataframe tbody tr th:only-of-type {\n        vertical-align: middle;\n    }\n\n    .dataframe tbody tr th {\n        vertical-align: top;\n    }\n\n    .dataframe thead th {\n        text-align: right;\n    }\n</style>\n<table border=\"1\" class=\"dataframe\">\n  <thead>\n    <tr style=\"text-align: right;\">\n      <th></th>\n      <th>age</th>\n      <th>job</th>\n      <th>marital</th>\n      <th>education</th>\n      <th>default</th>\n      <th>housing</th>\n      <th>loan</th>\n      <th>contact</th>\n      <th>month</th>\n      <th>day_of_week</th>\n      <th>...</th>\n      <th>campaign</th>\n      <th>pdays</th>\n      <th>previous</th>\n      <th>poutcome</th>\n      <th>emp.var.rate</th>\n      <th>cons.price.idx</th>\n      <th>cons.conf.idx</th>\n      <th>euribor3m</th>\n      <th>nr.employed</th>\n      <th>y</th>\n    </tr>\n  </thead>\n  <tbody>\n    <tr>\n      <th>0</th>\n      <td>56</td>\n      <td>3</td>\n      <td>1</td>\n      <td>0</td>\n      <td>0</td>\n      <td>0</td>\n      <td>0</td>\n      <td>1</td>\n      <td>6</td>\n      <td>1</td>\n      <td>...</td>\n      <td>1</td>\n      <td>999</td>\n      <td>0</td>\n      <td>1</td>\n      <td>1.1</td>\n      <td>93.994</td>\n      <td>-36.4</td>\n      <td>4.857</td>\n      <td>5191.0</td>\n      <td>0</td>\n    </tr>\n    <tr>\n      <th>1</th>\n      <td>57</td>\n      <td>7</td>\n      <td>1</td>\n      <td>3</td>\n      <td>0</td>\n      <td>0</td>\n      <td>0</td>\n      <td>1</td>\n      <td>6</td>\n      <td>1</td>\n      <td>...</td>\n      <td>1</td>\n      <td>999</td>\n      <td>0</td>\n      <td>1</td>\n      <td>1.1</td>\n      <td>93.994</td>\n      <td>-36.4</td>\n      <td>4.857</td>\n      <td>5191.0</td>\n      <td>0</td>\n    </tr>\n    <tr>\n      <th>2</th>\n      <td>37</td>\n      <td>7</td>\n      <td>1</td>\n      <td>3</td>\n      <td>0</td>\n      <td>1</td>\n      <td>0</td>\n      <td>1</td>\n      <td>6</td>\n      <td>1</td>\n      <td>...</td>\n      <td>1</td>\n      <td>999</td>\n      <td>0</td>\n      <td>1</td>\n      <td>1.1</td>\n      <td>93.994</td>\n      <td>-36.4</td>\n      <td>4.857</td>\n      <td>5191.0</td>\n      <td>0</td>\n    </tr>\n    <tr>\n      <th>3</th>\n      <td>40</td>\n      <td>0</td>\n      <td>1</td>\n      <td>1</td>\n      <td>0</td>\n      <td>0</td>\n      <td>0</td>\n      <td>1</td>\n      <td>6</td>\n      <td>1</td>\n      <td>...</td>\n      <td>1</td>\n      <td>999</td>\n      <td>0</td>\n      <td>1</td>\n      <td>1.1</td>\n      <td>93.994</td>\n      <td>-36.4</td>\n      <td>4.857</td>\n      <td>5191.0</td>\n      <td>0</td>\n    </tr>\n    <tr>\n      <th>4</th>\n      <td>56</td>\n      <td>7</td>\n      <td>1</td>\n      <td>3</td>\n      <td>0</td>\n      <td>0</td>\n      <td>1</td>\n      <td>1</td>\n      <td>6</td>\n      <td>1</td>\n      <td>...</td>\n      <td>1</td>\n      <td>999</td>\n      <td>0</td>\n      <td>1</td>\n      <td>1.1</td>\n      <td>93.994</td>\n      <td>-36.4</td>\n      <td>4.857</td>\n      <td>5191.0</td>\n      <td>0</td>\n    </tr>\n  </tbody>\n</table>\n<p>5 rows × 21 columns</p>\n</div>"
     },
     "execution_count": 3,
     "metadata": {},
     "output_type": "execute_result"
    }
   ],
   "source": [
    "obj_column = df.dtypes[df.dtypes == 'object'].index\n",
    "\n",
    "labelencoder_X = LabelEncoder()\n",
    "for column in obj_column:\n",
    "    df[column] = labelencoder_X.fit_transform(df[column])\n",
    "\n",
    "df.head()"
   ]
  },
  {
   "cell_type": "markdown",
   "id": "11ebdc91",
   "metadata": {},
   "source": [
    "#### Split our data in to train and test sets."
   ]
  },
  {
   "cell_type": "code",
   "execution_count": 4,
   "id": "c221d349",
   "metadata": {},
   "outputs": [],
   "source": [
    "X_train, X_test, y_train, y_test = train_test_split(df.drop('y', axis = 1), df['y'], test_size = .2, \n",
    "                                                    random_state = SEED, stratify = df['y'])"
   ]
  },
  {
   "cell_type": "markdown",
   "id": "495602af",
   "metadata": {},
   "source": [
    "#### Rescale our data from their default range to 0-1 range."
   ]
  },
  {
   "cell_type": "code",
   "execution_count": 5,
   "id": "31fd1e2d",
   "metadata": {},
   "outputs": [],
   "source": [
    "scaler = MinMaxScaler()\n",
    "X_train = scaler.fit_transform(X_train)\n",
    "X_test = scaler.transform(X_test)"
   ]
  },
  {
   "cell_type": "markdown",
   "id": "b2968fd8",
   "metadata": {},
   "source": [
    "#### Before we procced into the final step of our project we use boosting in order to see which features should be utilized in our model"
   ]
  },
  {
   "cell_type": "code",
   "execution_count": 6,
   "id": "97dff034",
   "metadata": {},
   "outputs": [
    {
     "data": {
      "text/plain": "GradientBoostingClassifier(learning_rate=0.01, max_depth=4, n_estimators=500,\n                           random_state=1)"
     },
     "execution_count": 6,
     "metadata": {},
     "output_type": "execute_result"
    }
   ],
   "source": [
    "boost = GradientBoostingClassifier(n_estimators = 500, learning_rate = 0.01, max_depth = 4, random_state = 1)\n",
    "boost.fit(X_train, y_train)"
   ]
  },
  {
   "cell_type": "code",
   "execution_count": 7,
   "id": "70a81d15",
   "metadata": {},
   "outputs": [
    {
     "data": {
      "text/plain": "<Figure size 432x288 with 1 Axes>",
      "image/png": "[encoded data removed]"
     },
     "metadata": {
      "needs_background": "light"
     },
     "output_type": "display_data"
    }
   ],
   "source": [
    "X = df.drop(['y'], axis = 1)\n",
    "feature_importance = boost.feature_importances_ * 100\n",
    "rel_imp = pd.Series(feature_importance, index = X.columns).sort_values(inplace = False)\n",
    "rel_imp.T.plot(kind = 'barh', color = 'r')\n",
    "plt.xlabel('Variable Importance')\n",
    "plt.gca().legend_ = None\n",
    "plt.savefig('feature_importance.png')\n",
    "plt.show()"
   ]
  },
  {
   "cell_type": "markdown",
   "id": "ab71e0c1",
   "metadata": {},
   "source": [
    "#### As we can see, the most important features are duration, nr.employed, euribor3m, pdays and cons.conf.idx\n",
    "#### Finally, we apply the XGboost model since it provided the best performance in the previous assignment"
   ]
  },
  {
   "cell_type": "code",
   "execution_count": 8,
   "id": "23d3705d",
   "metadata": {},
   "outputs": [
    {
     "name": "stdout",
     "output_type": "stream",
     "text": [
      "Accuracy: 0.92\n",
      "F1_score: 0.62\n",
      "Cross_val_score: 0.91\n",
      "Recall: 0.57\n",
      "Confusion Matrix:\n",
      " [[7057  262]\n",
      " [ 392  527]]\n"
     ]
    }
   ],
   "source": [
    "dframe = df[['duration', 'nr.employed', 'euribor3m', 'pdays', 'cons.conf.idx', 'y']]\n",
    "X = dframe.drop(['y'], axis = 1)\n",
    "y = dframe['y']\n",
    "X_train, X_test, y_train, y_test = train_test_split(X, y, train_size = 0.8, random_state = SEED)\n",
    "\n",
    "xgb = XGBClassifier(eval_metric = 'mlogloss')\n",
    "xgb.fit(X_train, y_train)\n",
    "preds = xgb.predict(X_test)\n",
    "\n",
    "print('Accuracy:', round(xgb.score(X_test, y_test), 2),)\n",
    "print('F1_score:', round(f1_score(y_test, preds), 2),)\n",
    "print('Cross_val_score:', round(cross_val_score(xgb, X_test, y_test, cv = 5).mean(), 2),)\n",
    "print('Recall:', round(recall_score(y_test, preds), 2),)\n",
    "cm = confusion_matrix(y_test, preds)\n",
    "print(f\"Confusion Matrix:\\n {cm}\")"
   ]
  },
  {
   "cell_type": "markdown",
   "id": "a886cac8",
   "metadata": {},
   "source": [
    "#### Despite applying boosting on our best model, the performance of XGboost does not improve significantly. We han an increase from 0.01 to 0.03 in each value."
   ]
  },
  {
   "cell_type": "markdown",
   "id": "99ac715c",
   "metadata": {},
   "source": [
    "### Nevertheless, it has provided us satisfactory results. It’s a good model for the bank to try and reach out to new customers."
   ]
  }
 ],
 "metadata": {
  "kernelspec": {
   "display_name": "Python 3",
   "language": "python",
   "name": "python3"
  },
  "language_info": {
   "codemirror_mode": {
    "name": "ipython",
    "version": 3
   },
   "file_extension": ".py",
   "mimetype": "text/x-python",
   "name": "python",
   "nbconvert_exporter": "python",
   "pygments_lexer": "ipython3",
   "version": "3.8.11"
  }
 },
 "nbformat": 4,
 "nbformat_minor": 5
}